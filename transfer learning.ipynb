{
  "cells": [
    {
      "cell_type": "markdown",
      "metadata": {},
      "source": [
        "# Image and Video Processing: Transfer Learning using TensorFlow\n",
        "\n",
        "In this notebook, we'll cover the basics of transfer learning for image classification using TensorFlow. We'll use a pre-trained model from `tf.keras.applications` and fine-tune it on a sample dataset."
      ]
    },
    {
      "cell_type": "markdown",
      "metadata": {},
      "source": [
        "## What is Transfer Learning?\n",
        "\n",
        "Transfer learning is a machine learning technique where a model trained on one task is reused on a different but related task. It leverages the knowledge gained from the first task to improve the learning process and performance on the second task."
      ]
    },
    {
      "cell_type": "markdown",
      "metadata": {},
      "source": [
        "## Installing Required Libraries\n",
        "\n",
        "First, we need to install the required libraries. For this tutorial, we'll use `tensorflow` and `tensorflow_datasets`. You can install these libraries using the following commands:"
      ]
    },
    {
      "cell_type": "code",
      "execution_count": 1,
      "metadata": {},
      "outputs": [],
      "source": [
        "!pip install tensorflow tensorflow-datasets"
      ]
    },
    {
      "cell_type": "markdown",
      "metadata": {},
      "source": [
        "## Loading the Dataset\n",
        "\n",
        "We'll use the `tf_flowers` dataset available through the `tensorflow_datasets` library. This dataset consists of 3,670 images of flowers in five categories."
      ]
    },
    {
      "cell_type": "code",
      "execution_count": 2,
      "metadata": {},
      "outputs": [],
      "source": [
        "import tensorflow as tf\n",
        "import tensorflow_datasets as tfds\n",
        "\n",
        "# Load the tf_flowers dataset\n",
        "(train_data, test_data), info = tfds.load('tf_flowers', split=['train[:80%]', 'train[80%:]'], with_info=True, as_supervised=True)\n",
        "\n",
        "print(info)"
      ]
    },
    {
      "cell_type": "markdown",
      "metadata": {},
      "source": [
        "## Preprocessing the Data\n",
        "\n",
        "We need to preprocess the images by resizing them to a fixed size and normalizing the pixel values."
      ]
    },
    {
      "cell_type": "code",
      "execution_count": 3,
      "metadata": {},
      "outputs": [],
      "source": [
        "def preprocess(image, label):\n",
        "    image = tf.image.resize(image, (224, 224))\n",
        "    image = image / 255.0  # Normalize the image to [0, 1]\n",
        "    return image, label\n",
        "\n",
        "# Apply preprocessing to the dataset\n",
        "train_data = train_data.map(preprocess).cache().shuffle(1000).batch(32).prefetch(buffer_size=tf.data.AUTOTUNE)\n",
        "test_data = test_data.map(preprocess).batch(32).prefetch(buffer_size=tf.data.AUTOTUNE)"
      ]
    },
    {
      "cell_type": "markdown",
      "metadata": {},
      "source": [
        "## Building the Model using Transfer Learning\n",
        "\n",
        "We'll use the pre-trained MobileNetV2 model from `tf.keras.applications` as the base model. We'll add a few layers on top of it and fine-tune the entire model on the `tf_flowers` dataset."
      ]
    },
    {
      "cell_type": "code",
      "execution_count": 4,
      "metadata": {},
      "outputs": [],
      "source": [
        "base_model = tf.keras.applications.MobileNetV2(input_shape=(224, 224, 3), include_top=False, weights='imagenet')\n",
        "base_model.trainable = False  # Freeze the base model\n",
        "\n",
        "model = tf.keras.Sequential([\n",
        "    base_model,\n",
        "    tf.keras.layers.GlobalAveragePooling2D(),\n",
        "    tf.keras.layers.Dense(128, activation='relu'),\n",
        "    tf.keras.layers.Dropout(0.5),\n",
        "    tf.keras.layers.Dense(5, activation='softmax')  # 5 classes in the tf_flowers dataset\n",
        "])\n",
        "\n",
        "model.compile(optimizer='adam', loss='sparse_categorical_crossentropy', metrics=['accuracy'])\n",
        "model.summary()"
      ]
    },
    {
      "cell_type": "markdown",
      "metadata": {},
      "source": [
        "## Training the Model\n",
        "\n",
        "We'll train the model using the preprocessed training data. Since the base model is frozen, only the top layers will be trained."
      ]
    },
    {
      "cell_type": "code",
      "execution_count": 5,
      "metadata": {},
      "outputs": [],
      "source": [
        "history = model.fit(train_data, epochs=10, validation_data=test_data)"
      ]
    },
    {
      "cell_type": "markdown",
      "metadata": {},
      "source": [
        "## Fine-tuning the Model\n",
        "\n",
        "After the initial training, we can unfreeze the base model and fine-tune it along with the top layers for a few more epochs."
      ]
    },
    {
      "cell_type": "code",
      "execution_count": 6,
      "metadata": {},
      "outputs": [],
      "source": [
        "base_model.trainable = True\n",
        "model.compile(optimizer=tf.keras.optimizers.Adam(1e-5), loss='sparse_categorical_crossentropy', metrics=['accuracy'])\n",
        "history_fine = model.fit(train_data, epochs=5, validation_data=test_data)"
      ]
    },
    {
      "cell_type": "markdown",
      "metadata": {},
      "source": [
        "## Evaluating the Model\n",
        "\n",
        "After training and fine-tuning the model, we need to evaluate its performance on the test dataset."
      ]
    },
    {
      "cell_type": "code",
      "execution_count": 7,
      "metadata": {},
      "outputs": [],
      "source": [
        "loss, accuracy = model.evaluate(test_data)\n",
        "print(f'Test Accuracy: {accuracy * 100:.2f}%')"
      ]
    },
    {
      "cell_type": "markdown",
      "metadata": {},
      "source": [
        "## Conclusion\n",
        "\n",
        "In this notebook, we covered the basics of transfer learning for image classification using TensorFlow. We used the pre-trained MobileNetV2 model from `tf.keras.applications`, fine-tuned it on the `tf_flowers` dataset, and evaluated its performance. Transfer learning is a powerful technique that allows us to leverage pre-trained models and achieve high performance with limited data and computational resources."
      ]
    }
  ],
  "metadata": {
    "kernelspec": {
      "display_name": "Python 3",
      "language": "python",
      "name": "python3"
    },
    "language_info": {
      "codemirror_mode": {
        "name": "ipython",
        "version": 3
      },
      "file_extension": ".py",
      "mimetype": "text/x-python",
      "name": "python",
      "nbconvert_exporter": "python",
      "pygments_lexer": "ipython3",
      "version": "3.8.8"
    }
  },
  "nbformat": 4,
  "nbformat_minor": 4
}

