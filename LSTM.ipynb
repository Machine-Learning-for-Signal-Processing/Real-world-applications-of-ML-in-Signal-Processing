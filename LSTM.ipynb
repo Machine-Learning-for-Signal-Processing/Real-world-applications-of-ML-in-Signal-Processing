{
 "cells": [
  {
   "cell_type": "markdown",
   "metadata": {},
   "source": [
    "# Audio Signal Classification using Long Short-Term Memory (LSTM) in TensorFlow\n",
    "\n",
    "In this tutorial, we'll walk through the process of classifying audio signals using a Long Short-Term Memory (LSTM) neural network in TensorFlow. We'll cover data loading, preprocessing, model building, training, and evaluation.\n",
    "\n",
    "We'll use the [UrbanSound8K](https://urbansounddataset.weebly.com/urbansound8k.html) dataset, which contains 8732 labeled sound excerpts (<=4s) of urban sounds from 10 classes."
   ]
  },
  {
   "cell_type": "markdown",
   "metadata": {},
   "source": [
    "## Step 1: Install Required Libraries\n",
    "\n",
    "First, let's install the libraries we'll need. Make sure you have `tensorflow`, `librosa`, and `numpy` installed. You can install them using pip:"
   ]
  },
  {
   "cell_type": "code",
   "execution_count": null,
   "metadata": {},
   "outputs": [],
   "source": [
    "!pip install tensorflow librosa numpy"
   ]
  },
  {
   "cell_type": "markdown",
   "metadata": {},
   "source": [
    "## Step 2: Load and Preprocess the Data\n",
    "\n",
    "We'll load the UrbanSound8K dataset and preprocess it. This involves reading the audio files, extracting features, and preparing the data for the LSTM model."
   ]
  },
  {
   "cell_type": "code",
   "execution_count": null,
   "metadata": {},
   "outputs": [],
   "source": [
    "import os\n",
    "import numpy as np\n",
    "import librosa\n",
    "import tensorflow as tf\n",
    "from sklearn.model_selection import train_test_split\n",
    "from sklearn.preprocessing import LabelEncoder\n",
    "from tensorflow.keras.utils import to_categorical\n",
    "\n",
    "# Load the UrbanSound8K dataset\n",
    "DATASET_PATH = 'UrbanSound8K/audio/'\n",
    "metadata = 'UrbanSound8K/metadata/UrbanSound8K.csv'\n",
    "\n",
    "# Function to extract features from audio files\n",
    "def extract_features(file_name):\n",
    "    try:\n",
    "        audio, sample_rate = librosa.load(file_name, res_type='kaiser_fast')\n",
    "        mfccs = librosa.feature.mfcc(y=audio, sr=sample_rate, n_mfcc=40)\n",
    "        mfccs_scaled = np.mean(mfccs.T, axis=0)\n",
    "    except Exception as e:\n",
    "        print(f\"Error encountered while parsing file: {file_name}\")\n",
    "        return None\n",
    "    return mfccs_scaled\n",
    "\n",
    "# Load metadata\n",
    "import pandas as pd\n",
    "metadata = pd.read_csv(metadata)\n",
    "\n",
    "# Iterate through each sound file and extract features\n",
    "features = []\n",
    "\n",
    "for index, row in metadata.iterrows():\n",
    "    file_name = os.path.join(os.path.abspath(DATASET_PATH), 'fold'+str(row['fold'])+'/', str(row['slice_file_name']))\n",
    "    class_label = row['class']\n",
    "    data = extract_features(file_name)\n",
    "    features.append([data, class_label])\n",
    "\n",
    "# Convert into a Pandas DataFrame\n",
    "features_df = pd.DataFrame(features, columns=['feature', 'class_label'])\n",
    "\n",
    "# Convert features and corresponding classification labels into numpy arrays\n",
    "X = np.array(features_df.feature.tolist())\n",
    "y = np.array(features_df.class_label.tolist())\n",
    "\n",
    "# Encode the classification labels\n",
    "le = LabelEncoder()\n",
    "yy = to_categorical(le.fit_transform(y))\n",
    "\n",
    "# Split the dataset into training and testing sets\n",
    "x_train, x_test, y_train, y_test = train_test_split(X, yy, test_size=0.2, random_state=42)\n",
    "\n",
    "# Reshape for LSTM [samples, time steps, features]\n",
    "x_train = np.expand_dims(x_train, axis=-1)\n",
    "x_test = np.expand_dims(x_test, axis=-1)"
   ]
  },
  {
   "cell_type": "markdown",
   "metadata": {},
   "source": [
    "## Step 3: Build the LSTM Model\n",
    "\n",
    "Now, we'll build an LSTM model using TensorFlow. The model will have an LSTM layer followed by a Dense layer for classification."
   ]
  },
  {
   "cell_type": "code",
   "execution_count": null,
   "metadata": {},
   "outputs": [],
   "source": [
    "from tensorflow.keras.models import Sequential\n",
    "from tensorflow.keras.layers import Dense, LSTM, Dropout\n",
    "\n",
    "model = Sequential()\n",
    "model.add(LSTM(128, return_sequences=True, input_shape=(x_train.shape[1], x_train.shape[2])))\n",
    "model.add(Dropout(0.5))\n",
    "model.add(LSTM(64))\n",
    "model.add(Dropout(0.5))\n",
    "model.add(Dense(10, activation='softmax'))\n",
    "\n",
    "model.compile(loss='categorical_crossentropy', optimizer='adam', metrics=['accuracy'])\n",
    "model.summary()"
   ]
  },
  {
   "cell_type": "markdown",
   "metadata": {},
   "source": [
    "## Step 4: Train the Model\n",
    "\n",
    "We'll train the model on our training data and validate it on the test data."
   ]
  },
  {
   "cell_type": "code",
   "execution_count": null,
   "metadata": {},
   "outputs": [],
   "source": [
    "history = model.fit(x_train, y_train, batch_size=32, epochs=50, validation_data=(x_test, y_test), verbose=1)"
   ]
  },
  {
   "cell_type": "markdown",
   "metadata": {},
   "source": [
    "## Step 5: Evaluate the Model\n",
    "\n",
    "Finally, we'll evaluate the model's performance on the test data."
   ]
  },
  {
   "cell_type": "code",
   "execution_count": null,
   "metadata": {},
   "outputs": [],
   "source": [
    "test_loss, test_acc = model.evaluate(x_test, y_test, verbose=2)\n",
    "print(f'\\nTest accuracy: {test_acc}')"
   ]
  },
  {
   "cell_type": "markdown",
   "metadata": {},
   "source": [
    "## Conclusion\n",
    "\n",
    "In this tutorial, we walked through the process of building and training a Long Short-Term Memory (LSTM) neural network for audio signal classification using TensorFlow. We used the UrbanSound8K dataset for our experiments and achieved a reasonable accuracy."
   ]
  }
 ],
 "metadata": {
  "kernelspec": {
   "display_name": "Python 3",
   "language": "python",
   "name": "python3"
  },
  "language_info": {
   "codemirror_mode": {
    "name": "ipython",
    "version": 3
   },
   "file_extension": ".py",
   "mimetype": "text/x-python",
   "name": "python",
   "nbconvert_exporter": "python",
   "pygments_lexer": "ipython3",
   "version": "3.8.10"
  }
 },
 "nbformat": 4,
 "nbformat_minor": 4
}

