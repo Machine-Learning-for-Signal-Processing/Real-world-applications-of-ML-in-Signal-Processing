{
  "cells": [
    {
      "cell_type": "markdown",
      "metadata": {},
      "source": [
        "# Audio Signal Classification using Long Short-Term Memory (LSTM) in TensorFlow\n",
        "\n",
        "In this notebook, we'll cover the basics of audio signal classification using an LSTM model in TensorFlow. We'll use a preloaded dataset from `tensorflow_datasets`."
      ]
    },
    {
      "cell_type": "markdown",
      "metadata": {},
      "source": [
        "## What is Audio Signal Classification?\n",
        "\n",
        "Audio signal classification is the task of automatically recognizing and categorizing audio signals into predefined categories. This has a wide range of applications including speech recognition, music genre classification, and environmental sound classification."
      ]
    },
    {
      "cell_type": "markdown",
      "metadata": {},
      "source": [
        "## Installing Required Libraries\n",
        "\n",
        "First, we need to install the required libraries. For this tutorial, we'll use `tensorflow` and `tensorflow_datasets`. You can install these libraries using the following commands:"
      ]
    },
    {
      "cell_type": "code",
      "execution_count": 1,
      "metadata": {},
      "outputs": [],
      "source": [
        "!pip install tensorflow tensorflow-datasets"
      ]
    },
    {
      "cell_type": "markdown",
      "metadata": {},
      "source": [
        "## Loading the Dataset\n",
        "\n",
        "We'll use the `SpeechCommands` dataset available through the `tensorflow_datasets` library. This dataset consists of short audio clips of spoken words."
      ]
    },
    {
      "cell_type": "code",
      "execution_count": 2,
      "metadata": {},
      "outputs": [],
      "source": [
        "import tensorflow as tf\n",
        "import tensorflow_datasets as tfds\n",
        "\n",
        "# Load the SpeechCommands dataset\n",
        "(train_data, test_data), info = tfds.load('speech_commands', split=['train', 'test'], with_info=True, as_supervised=True)\n",
        "\n",
        "print(info)"
      ]
    },
    {
      "cell_type": "markdown",
      "metadata": {},
      "source": [
        "## Preprocessing the Data\n",
        "\n",
        "We need to preprocess the audio data by converting it to Mel spectrograms, which are commonly used as input features for audio classification models. We'll also normalize the spectrograms."
      ]
    },
    {
      "cell_type": "code",
      "execution_count": 3,
      "metadata": {},
      "outputs": [],
      "source": [
        "def preprocess(audio, sample_rate, label):\n",
        "    # Convert waveform to spectrogram\n",
        "    spectrogram = tf.signal.stft(audio, frame_length=256, frame_step=128)\n",
        "    spectrogram = tf.abs(spectrogram)\n",
        "    spectrogram = tf.math.log(spectrogram + 1e-10)  # Log scaling\n",
        "    spectrogram = tf.expand_dims(spectrogram, axis=-1)\n",
        "    return spectrogram, label\n",
        "\n",
        "def normalize(spectrogram, label):\n",
        "    mean = tf.math.reduce_mean(spectrogram)\n",
        "    stddev = tf.math.reduce_std(spectrogram)\n",
        "    spectrogram = (spectrogram - mean) / stddev\n",
        "    return spectrogram, label\n",
        "\n",
        "# Apply preprocessing to the dataset\n",
        "train_data = train_data.map(preprocess).map(normalize).cache().prefetch(buffer_size=tf.data.AUTOTUNE)\n",
        "test_data = test_data.map(preprocess).map(normalize).cache().prefetch(buffer_size=tf.data.AUTOTUNE)"
      ]
    },
    {
      "cell_type": "markdown",
      "metadata": {},
      "source": [
        "## Building the LSTM Model\n",
        "\n",
        "We'll build a simple LSTM model using TensorFlow. The model will consist of an LSTM layer followed by dense layers."
      ]
    },
    {
      "cell_type": "code",
      "execution_count": 4,
      "metadata": {},
      "outputs": [],
      "source": [
        "model = tf.keras.Sequential([\n",
        "    tf.keras.layers.Input(shape=(None, 129)),  # The input shape depends on the spectrogram dimensions\n",
        "    tf.keras.layers.LSTM(128, return_sequences=True),\n",
        "    tf.keras.layers.LSTM(64),\n",
        "    tf.keras.layers.Dense(256, activation='relu'),\n",
        "    tf.keras.layers.Dropout(0.5),\n",
        "    tf.keras.layers.Dense(35, activation='softmax')  # There are 35 classes in the SpeechCommands dataset\n",
        "])\n",
        "\n",
        "model.compile(optimizer='adam', loss='sparse_categorical_crossentropy', metrics=['accuracy'])\n",
        "model.summary()"
      ]
    },
    {
      "cell_type": "markdown",
      "metadata": {},
      "source": [
        "## Training the Model\n",
        "\n",
        "We'll train the LSTM model using the preprocessed training data."
      ]
    },
    {
      "cell_type": "code",
      "execution_count": 5,
      "metadata": {},
      "outputs": [],
      "source": [
        "history = model.fit(train_data, epochs=10, validation_data=test_data)"
      ]
    },
    {
      "cell_type": "markdown",
      "metadata": {},
      "source": [
        "## Evaluating the Model\n",
        "\n",
        "After training the model, we need to evaluate its performance on the test dataset."
      ]
    },
    {
      "cell_type": "code",
      "execution_count": 6,
      "metadata": {},
      "outputs": [],
      "source": [
        "loss, accuracy = model.evaluate(test_data)\n",
        "print(f'Test Accuracy: {accuracy * 100:.2f}%')"
      ]
    },
    {
      "cell_type": "markdown",
      "metadata": {},
      "source": [
        "## Conclusion\n",
        "\n",
        "In this notebook, we covered the basics of audio signal classification using an LSTM model in TensorFlow. We used the `SpeechCommands` dataset from `tensorflow_datasets`, preprocessed the audio data, built and trained an LSTM model, and evaluated its performance. With these foundational steps, you can further explore and improve your audio signal classification models."
      ]
    }
  ],
  "metadata": {
    "kernelspec": {
      "display_name": "Python 3",
      "language": "python",
      "name": "python3"
    },
    "language_info": {
      "codemirror_mode": {
        "name": "ipython",
        "version": 3
      },
      "file_extension": ".py",
      "mimetype": "text/x-python",
      "name": "python",
      "nbconvert_exporter": "python",
      "pygments_lexer": "ipython3",
      "version": "3.8.8"
    }
  },
  "nbformat": 4,
  "nbformat_minor": 4
}

