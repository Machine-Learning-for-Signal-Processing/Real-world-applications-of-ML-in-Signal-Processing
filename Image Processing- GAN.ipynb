{
 "cells": [
  {
   "cell_type": "markdown",
   "metadata": {},
   "source": [
    "# Real-world Applications of ML in Signal Processing: Image and Video Processing\n",
    "## Using Generative Adversarial Networks (GANs) in TensorFlow\n",
    "\n",
    "In this notebook, we'll explore how to build and train a Generative Adversarial Network (GAN) for image generation using TensorFlow. GANs are powerful tools for generating synthetic data that resembles the training data distribution, which can be used in various applications such as image synthesis, style transfer, and more."
   ]
  },
  {
   "cell_type": "markdown",
   "metadata": {},
   "source": [
    "## Introduction to Generative Adversarial Networks (GANs)\n",
    "\n",
    "Generative Adversarial Networks (GANs) are deep learning models designed to generate new data samples that resemble the training data. GANs consist of two neural networks, a generator and a discriminator, which compete against each other in a game-theoretic framework."
   ]
  },
  {
   "cell_type": "markdown",
   "metadata": {},
   "source": [
    "## Installing Necessary Libraries\n",
    "\n",
    "Let's start by installing the necessary libraries. We will use TensorFlow, Matplotlib, and other essential libraries."
   ]
  },
  {
   "cell_type": "code",
   "execution_count": 1,
   "metadata": {},
   "outputs": [],
   "source": [
    "!pip install tensorflow matplotlib numpy pillow"
   ]
  },
  {
   "cell_type": "markdown",
   "metadata": {},
   "source": [
    "## Importing Libraries\n",
    "\n",
    "Next, we'll import the required libraries."
   ]
  },
  {
   "cell_type": "code",
   "execution_count": 2,
   "metadata": {},
   "outputs": [],
   "source": [
    "import tensorflow as tf\n",
    "from tensorflow import keras\n",
    "from tensorflow.keras import layers\n",
    "import numpy as np\n",
    "import matplotlib.pyplot as plt"
   ]
  },
  {
   "cell_type": "markdown",
   "metadata": {},
   "source": [
    "## Building the Generative Adversarial Network (GAN)\n",
    "\n",
    "We'll now define the generator and discriminator networks."
   ]
  },
  {
   "cell_type": "code",
   "execution_count": 3,
   "metadata": {},
   "outputs": [],
   "source": [
    "latent_dim = 100\n",
    "\n",
    "generator = keras.Sequential([\n",
    "    keras.Input(shape=(latent_dim,)),\n",
    "    layers.Dense(128 * 16 * 16),\n",
    "    layers.Reshape((16, 16, 128)),\n",
    "    layers.Conv2DTranspose(128, kernel_size=4, strides=2, padding='same', activation='relu'),\n",
    "    layers.Conv2DTranspose(256, kernel_size=4, strides=2, padding='same', activation='relu'),\n",
    "    layers.Conv2D(3, kernel_size=5, padding='same', activation='sigmoid')\n",
    "], name='generator')\n",
    "\n",
    "discriminator = keras.Sequential([\n",
    "    keras.Input(shape=(32, 32, 3)),\n",
    "    layers.Conv2D(64, kernel_size=3, strides=2, padding='same', activation='relu'),\n",
    "    layers.Conv2D(128, kernel_size=3, strides=2, padding='same', activation='relu'),\n",
    "    layers.GlobalMaxPooling2D(),\n",
    "    layers.Dense(1, activation='sigmoid')\n",
    "], name='discriminator')\n",
    "\n",
    "gan = keras.Sequential([generator, discriminator])\n",
    "\n",
    "discriminator.compile(optimizer=keras.optimizers.Adam(learning_rate=0.0002, beta_1=0.5),\n",
    "                      loss='binary_crossentropy', metrics=['accuracy'])\n",
    "\n",
    "discriminator.trainable = False\n",
    "gan.compile(optimizer=keras.optimizers.Adam(learning_rate=0.0002, beta_1=0.5),\n",
    "            loss='binary_crossentropy')\n",
    "\n",
    "gan.summary()"
   ]
  },
  {
   "cell_type": "markdown",
   "metadata": {},
   "source": [
    "## Loading and Preprocessing Data\n",
    "\n",
    "For this example, we'll use the CIFAR-10 dataset, which consists of 60,000 32x32 color images in 10 classes. We'll preprocess the data and prepare it for training and evaluation."
   ]
  },
  {
   "cell_type": "code",
   "execution_count": 4,
   "metadata": {},
   "outputs": [],
   "source": [
    "(x_train, _), (x_test, _) = keras.datasets.cifar10.load_data()\n",
    "\n",
    "# Normalize data\n",
    "x_train = x_train.astype('float32') / 255.0\n",
    "x_test = x_test.astype('float32') / 255.0\n",
    "\n",
    "# Visualize some examples\n",
    "plt.figure(figsize=(10, 10))\n",
    "for i in range(25):\n",
    "    plt.subplot(5, 5, i+1)\n",
    "    plt.imshow(x_train[i])\n",
    "    plt.axis('off')\n",
    "plt.suptitle('Examples from CIFAR-10 dataset')\n",
    "plt.show()"
   ]
  },
  {
   "cell_type": "markdown",
   "metadata": {},
   "source": [
    "## Training the GAN\n",
    "\n",
    "We'll train the GAN on the CIFAR-10 dataset."
   ]
  },
  {
   "cell_type": "code",
   "execution_count": 5,
   "metadata": {},
   "outputs": [],
   "source": [
    "epochs = 50\n",
    "batch_size = 64\n",
    "\n",
    "for epoch in range(epochs):\n",
    "    for batch in range(x_train.shape[0] // batch_size):\n",
    "        noise = np.random.normal(0, 1, (batch_size, latent_dim))\n",
    "        generated_images = generator.predict(noise)\n",
    "        real_images = x_train[np.random.randint(0, x_train.shape[0], batch_size)]\n",
    "        combined_images = np.concatenate([real_images, generated_images])\n",
    "        labels = np.concatenate([np.ones((batch_size, 1)), np.zeros((batch_size, 1))])\n",
    "        labels += 0.05 * np.random.random(labels.shape)\n",
    "        d_loss = discriminator.train_on_batch(combined_images, labels)\n",
    "        noise = np.random.normal(0, 1, (batch_size, latent_dim))\n",
    "        misleading_targets = np.zeros((batch_size, 1))\n",
    "        a_loss = gan.train_on_batch(noise, misleading_targets)\n",
    "\n",
    "    print(f'Epoch {epoch+1}, Discriminator Loss: {d_loss[0]}, Discriminator Accuracy: {100*d_loss[1]}%')\n",
    "    print(f'Epoch {epoch+1}, Adversarial Loss: {a_loss}')\n",
    "\n",
    "    # Visualize generated images\n",
    "    if epoch % 10 == 0:\n",
    "        plt.figure(figsize=(10, 10))\n",
    "        for i in range(25):\n",
    "            plt.subplot(5, 5, i+1)\n",
    "            plt.imshow(generated_images[i])\n",
    "            plt.axis('off')\n",
    "        plt.suptitle(f'Generated Images - Epoch {epoch+1}')\n",
    "        plt.show()"
   ]
  },
  {
   "cell_type": "markdown",
   "metadata": {},
   "source": [
    "## Conclusion\n",
    "\n",
    "In this notebook, we explored the application of Generative Adversarial Networks (GANs) in Image and Video Processing using TensorFlow. We covered data preprocessing, model building, training, and visualized the generated images. GANs are powerful tools for generating synthetic data that resembles the training data distribution, which can be used in various applications such as image synthesis, style transfer, and more."
   ]
  },
  {
   "cell_type": "markdown",
   "metadata": {},
   "source": [
    "## References\n",
    "\n",
    "- [Generative Adversarial Networks (GANs): An Overview](https://arxiv.org/abs/1710.07035)\n",
    "- [CIFAR-10 Dataset](https://www.cs.toronto.edu/~kriz/cifar.html)"
   ]
  }
 ],
 "metadata": {
  "kernelspec": {
   "display_name": "Python 3",
   "language": "python",
   "name": "python3"
  },
  "language_info": {
   "codemirror_mode": {
    "name": "ipython",
    "version": 3
   },
   "file_extension": ".py",
   "mimetype": "text/x-python",
   "name": "python",
   "nbconvert_exporter": "python",
   "pygments_lexer": "ipython3",
   "version": "3.8.5"
  }
 },
 "nbformat": 4,
 "nbformat_minor": 4
}
